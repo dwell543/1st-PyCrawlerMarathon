{
 "cells": [
  {
   "cell_type": "code",
   "execution_count": 1,
   "metadata": {},
   "outputs": [],
   "source": [
    "import requests\n",
    "import re\n",
    "#import pandas as pd\n",
    "from bs4 import BeautifulSoup"
   ]
  },
  {
   "cell_type": "code",
   "execution_count": 2,
   "metadata": {},
   "outputs": [],
   "source": [
    "url1 = 'https://www.ptt.cc/bbs/NBA/index.html'\n",
    "url2 = 'https://www.ptt.cc/bbs/NBA/index1.html'\n",
    "\n",
    "r = requests.get(url1)\n",
    "\n",
    "soup = BeautifulSoup(r.text, \"html5lib\")\n",
    "\n",
    "#columns = ['作者', '看板', '標題', '時間']"
   ]
  },
  {
   "cell_type": "code",
   "execution_count": 3,
   "metadata": {},
   "outputs": [
    {
     "name": "stdout",
     "output_type": "stream",
     "text": [
      "作者: thnlkj0665 (灰色地帶)\n",
      "標題: [花邊] 勇士賞灰狼11連敗 格林:沒想過會為2連勝興奮\n",
      "時間: Tue Dec 24 16:22:22 2019\n"
     ]
    }
   ],
   "source": [
    "items = soup.findAll(True, {\"class\": re.compile(r'(r-ent|r-list-sep)')})\n",
    "for item in range(len(items)):\n",
    "    if 'r-list-sep' in items[item].attrs['class']:\n",
    "        try:\n",
    "            r = BeautifulSoup(requests.get('https://www.ptt.cc'+items[item-1].a['href']).text, \"html5lib\")\n",
    "            article = []\n",
    "            for info in r.find_all(class_='article-meta-value'):\n",
    "                article.append(info.text)\n",
    "            print('作者: {}\\n標題: {}\\n時間: {}'.format(article[0], article[2], article[-1]))\n",
    "        except:\n",
    "            continue"
   ]
  },
  {
   "cell_type": "code",
   "execution_count": 4,
   "metadata": {},
   "outputs": [
    {
     "name": "stdout",
     "output_type": "stream",
     "text": [
      "作者: thnlkj0665 (灰色地帶)\n",
      "標題: [花邊] 勇士賞灰狼11連敗 格林:沒想過會為2連勝興奮\n",
      "時間: Tue Dec 24 16:22:22 2019\n"
     ]
    }
   ],
   "source": [
    "items = soup.findAll(True, {\"class\": re.compile(r'(r-ent|r-list-sep)')})\n",
    "for item in range(len(items)):\n",
    "    if 'r-list-sep' in items[item].attrs['class']:\n",
    "        try:\n",
    "            r = BeautifulSoup(requests.get('https://www.ptt.cc'+items[item-1].a['href']).text, \"html5lib\")\n",
    "            article = []\n",
    "            for info in r.find_all(class_='article-meta-value'):\n",
    "                article.append(info.text)\n",
    "            print('作者: {}\\n標題: {}\\n時間: {}'.format(article[0], article[2], article[-1]))\n",
    "        except:\n",
    "            continue\n",
    "    \n"
   ]
  },
  {
   "cell_type": "code",
   "execution_count": null,
   "metadata": {},
   "outputs": [],
   "source": []
  }
 ],
 "metadata": {
  "kernelspec": {
   "display_name": "Python 3",
   "language": "python",
   "name": "python3"
  },
  "language_info": {
   "codemirror_mode": {
    "name": "ipython",
    "version": 3
   },
   "file_extension": ".py",
   "mimetype": "text/x-python",
   "name": "python",
   "nbconvert_exporter": "python",
   "pygments_lexer": "ipython3",
   "version": "3.7.4"
  }
 },
 "nbformat": 4,
 "nbformat_minor": 2
}
