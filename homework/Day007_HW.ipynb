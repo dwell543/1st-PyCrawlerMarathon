{
 "cells": [
  {
   "cell_type": "markdown",
   "metadata": {},
   "source": [
    "# HTTP 靜態網頁架構說明\n",
    "\n",
    "* 認識靜態網頁的溝通架構與運作原理\n",
    "* HTML、CSS、JavaScript 在網頁中扮演的角色\n",
    "* 網頁中定位資料的方法"
   ]
  },
  {
   "cell_type": "markdown",
   "metadata": {},
   "source": [
    "## 作業目標\n",
    "\n",
    "1. （簡答題）請問目前提到的這種基於 HTTP 一來一回的網頁傳輸方式，有哪些缺點及問題？\n",
    "2. （簡答題）網頁中使用的 JavaScipt 程式語言，跟我們一般使用的 Python 在執行上有什麼不同。\n"
   ]
  },
  {
   "cell_type": "markdown",
   "metadata": {},
   "source": [
    "### 1.（簡答題）請問目前提到的這種基於 HTTP 一來一回的網頁傳輸方式，有哪些缺點及問題？"
   ]
  },
  {
   "cell_type": "markdown",
   "metadata": {},
   "source": [
    "優點:\n",
    "    1.連線簡單，介面使用方便\n",
    "    2.程式設計師開發水平要求不高，容錯性強\n",
    "\n",
    "缺點:\n",
    "    1.HTTP傳輸方式中間均未經過加密身分驗證層，所以在傳輸過程中，資料很容易遭第三方竊取訊息，或篡改資料冒充身分等\n",
    "    2.傳輸速度慢"
   ]
  },
  {
   "cell_type": "markdown",
   "metadata": {},
   "source": [
    "### 2. （簡答題）網頁中使用的 JavaScipt 程式語言，跟我們一般使用的 Python 在執行上有什麼不同。"
   ]
  },
  {
   "cell_type": "markdown",
   "metadata": {},
   "source": [
    "應用範圍:\n",
    "        Python為物件導向直譯式的高階程式語言，可用於網站及行動APP等，JavaScript主要用於網頁或瀏覽器中，可以用來為網頁增加動態功能。\n",
    "程式設計正規化:\n",
    "        Python和JavaScript都支援多種不同的程式設計正規化，但JavaScript的物件導向是基於原型的(Prototype)\n",
    "        ，物件的繼承是由原型(也是物件)建立出來的，由原型物件建立出來的物件繼承了原型鏈上的方法。\n",
    "        而Python則是中規中矩的基於類(class)的繼承，並支援多型。\n",
    "        JavaScript建立物件需要new關鍵字，但Python不需要。\n",
    "不可改變型別:\n",
    "        Pythonu\n"
   ]
  },
  {
   "cell_type": "markdown",
   "metadata": {},
   "source": [
    "在Python中，有的資料型別是不可改變的，也就意味著這種型別的資料不能被修改，所有的修改都會返回新的物件。而在Javascript中所有的資料型別都是可以改變的。Python引入不可改變型別我認為是為了支援執行緒安全，而因為Javascript是單執行緒模型，所以沒有必要引入不可改變型別。\n",
    "\n",
    "當然在Javascript可以定義一個物件的屬性為只讀。"
   ]
  }
 ],
 "metadata": {
  "kernelspec": {
   "display_name": "Python 3",
   "language": "python",
   "name": "python3"
  },
  "language_info": {
   "codemirror_mode": {
    "name": "ipython",
    "version": 3
   },
   "file_extension": ".py",
   "mimetype": "text/x-python",
   "name": "python",
   "nbconvert_exporter": "python",
   "pygments_lexer": "ipython3",
   "version": "3.7.4"
  }
 },
 "nbformat": 4,
 "nbformat_minor": 2
}
