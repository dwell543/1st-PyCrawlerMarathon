{
 "cells": [
  {
   "cell_type": "markdown",
   "metadata": {},
   "source": [
    "# PTT 網路爬蟲實作練習\n",
    "\n",
    "\n",
    "* 能夠利用 Request + BeatifulSour 撰寫爬蟲，並存放到合適的資料結構\n"
   ]
  },
  {
   "cell_type": "markdown",
   "metadata": {},
   "source": [
    "## 作業目標\n",
    "\n",
    "根據範例 ，完成以下問題：\n",
    "\n",
    "* ① 印出最新文章的「作者」「標題」「時間」\n",
    "* ② 印出第一頁所有文章的「作者」「標題」「時間」\n"
   ]
  },
  {
   "cell_type": "markdown",
   "metadata": {},
   "source": [
    "### ① 印出最新文章的「作者」「標題」「時間」"
   ]
  },
  {
   "cell_type": "code",
   "execution_count": 1,
   "metadata": {},
   "outputs": [],
   "source": [
    "import re, requests\n",
    "from bs4 import BeautifulSoup"
   ]
  },
  {
   "cell_type": "code",
   "execution_count": 2,
   "metadata": {},
   "outputs": [],
   "source": [
    "url_new = 'https://www.ptt.cc/bbs/NBA/index.html'\n",
    "url_old = 'https://www.ptt.cc/bbs/NBA/index1.html'\n",
    "r = requests.get(url_new)\n",
    "soup = BeautifulSoup(r.text, \"html5lib\")"
   ]
  },
  {
   "cell_type": "markdown",
   "metadata": {},
   "source": [
    "re.compile(r'()') r代表了原字符串，如匹配item\\n，如果沒有r，正則表達式要寫成re.compile('item\\\\n')；加r時，正則表達式寫成re.compile(r'item\\n')\n",
    "#class=r-list-sep 之上第一篇文章為最新文章\n",
    "#找多個class https://inneka.com/programming/python/beautifulsoup-findall-given-multiple-classes/\n",
    "#https://www.crummy.com/software/BeautifulSoup/bs3/documentation.zh.html#arg-recursive"
   ]
  },
  {
   "cell_type": "code",
   "execution_count": 3,
   "metadata": {},
   "outputs": [
    {
     "name": "stdout",
     "output_type": "stream",
     "text": [
      "作者: thnlkj0665 (灰色地帶)\n",
      "標題: [花邊] 勇士賞灰狼11連敗 格林:沒想過會為2連勝興奮\n",
      "時間: Tue Dec 24 16:22:22 2019\n"
     ]
    }
   ],
   "source": [
    "items = soup.findAll(True, {'class': re.compile(r'(r-ent|r-list-sep)')})\n",
    "\n",
    "for item in range(len(items)):\n",
    "    if 'r-list-sep' in items[item].attrs['class']:        \n",
    "        #attrs 函數參數\n",
    "        try:\n",
    "            r = BeautifulSoup(requests.get('https://www.ptt.cc'+items[item-1].a['href']).text, \"html5lib\")\n",
    "            article = []\n",
    "            for info in r.find_all(class_='article-meta-value'):\n",
    "                article.append(info.text)\n",
    "            print('作者: {}\\n標題: {}\\n時間: {}'.format(article[0], article[2], article[-1]))\n",
    "        except:\n",
    "            continue"
   ]
  },
  {
   "cell_type": "markdown",
   "metadata": {},
   "source": [
    "### ② 印出第一頁所有文章的「作者」「標題」「時間」"
   ]
  },
  {
   "cell_type": "code",
   "execution_count": 16,
   "metadata": {},
   "outputs": [],
   "source": [
    "import pandas as pd\n",
    "columns = ['作者', '看板', '標題', '時間']\n",
    "\n",
    "def GetFirstPageInfo(url):\n",
    "    r = requests.get(url)\n",
    "    \n",
    "    soup = BeautifulSoup(r.text, \"html5lib\")\n",
    "    \n",
    "    articles = []\n",
    "    \n",
    "    for d in soup.find_all(class_=\"title\"):\n",
    "        try:\n",
    "            r = BeautifulSoup(requests.get('https://www.ptt.cc'+d.find('a')['href']).text, \"html5lib\")\n",
    "            article = []\n",
    "            for info in r.find_all(class_='article-meta-value'):\n",
    "                article.append(info.text)\n",
    "            articles.append(article)\n",
    "        except:\n",
    "            continue\n",
    "    df = pd.DataFrame(articles, columns=columns)\n",
    "    \n",
    "    return df"
   ]
  },
  {
   "cell_type": "code",
   "execution_count": 17,
   "metadata": {},
   "outputs": [
    {
     "data": {
      "text/html": [
       "<div>\n",
       "<style scoped>\n",
       "    .dataframe tbody tr th:only-of-type {\n",
       "        vertical-align: middle;\n",
       "    }\n",
       "\n",
       "    .dataframe tbody tr th {\n",
       "        vertical-align: top;\n",
       "    }\n",
       "\n",
       "    .dataframe thead th {\n",
       "        text-align: right;\n",
       "    }\n",
       "</style>\n",
       "<table border=\"1\" class=\"dataframe\">\n",
       "  <thead>\n",
       "    <tr style=\"text-align: right;\">\n",
       "      <th></th>\n",
       "      <th>作者</th>\n",
       "      <th>看板</th>\n",
       "      <th>標題</th>\n",
       "      <th>時間</th>\n",
       "    </tr>\n",
       "  </thead>\n",
       "  <tbody>\n",
       "    <tr>\n",
       "      <td>0</td>\n",
       "      <td>fukawa947 (交大薛之謙)</td>\n",
       "      <td>NBA</td>\n",
       "      <td>[新聞] 曾被土耳其發出死亡威脅　肯特可在海外出</td>\n",
       "      <td>Tue Dec 24 15:01:44 2019</td>\n",
       "    </tr>\n",
       "    <tr>\n",
       "      <td>1</td>\n",
       "      <td>Vedan (味丹)</td>\n",
       "      <td>NBA</td>\n",
       "      <td>[公告] 請勿發業配、廣告文</td>\n",
       "      <td>Tue Dec 24 15:03:49 2019</td>\n",
       "    </tr>\n",
       "    <tr>\n",
       "      <td>2</td>\n",
       "      <td>volume7101 ()</td>\n",
       "      <td>NBA</td>\n",
       "      <td>[討論] 打nba是不是天生註定的？</td>\n",
       "      <td>Tue Dec 24 15:13:54 2019</td>\n",
       "    </tr>\n",
       "    <tr>\n",
       "      <td>3</td>\n",
       "      <td>jingthreept (大哥哥 大姐姐)</td>\n",
       "      <td>NBA</td>\n",
       "      <td>[討論] 請問Blake Griffin什麼時候會離開NBA?</td>\n",
       "      <td>Tue Dec 24 15:55:07 2019</td>\n",
       "    </tr>\n",
       "    <tr>\n",
       "      <td>4</td>\n",
       "      <td>fukawa947 (交大薛之謙)</td>\n",
       "      <td>NBA</td>\n",
       "      <td>[情報] Jokic 大三元次數史上第十</td>\n",
       "      <td>Tue Dec 24 16:04:00 2019</td>\n",
       "    </tr>\n",
       "    <tr>\n",
       "      <td>5</td>\n",
       "      <td>thnlkj0665 (灰色地帶)</td>\n",
       "      <td>NBA</td>\n",
       "      <td>[花邊] 勇士賞灰狼11連敗 格林:沒想過會為2連勝興奮</td>\n",
       "      <td>Tue Dec 24 16:22:22 2019</td>\n",
       "    </tr>\n",
       "    <tr>\n",
       "      <td>6</td>\n",
       "      <td>None</td>\n",
       "      <td>None</td>\n",
       "      <td>None</td>\n",
       "      <td>None</td>\n",
       "    </tr>\n",
       "    <tr>\n",
       "      <td>7</td>\n",
       "      <td>Vedan (味丹)</td>\n",
       "      <td>NBA</td>\n",
       "      <td>[公告] 樂透取消及未來不再開啟樂透</td>\n",
       "      <td>Mon Jun 24 15:08:02 2019</td>\n",
       "    </tr>\n",
       "    <tr>\n",
       "      <td>8</td>\n",
       "      <td>qazwsx879345 (Rajon Rondo)</td>\n",
       "      <td>NBA</td>\n",
       "      <td>[公告] 版主上任相關事項</td>\n",
       "      <td>Fri Oct 25 10:44:03 2019</td>\n",
       "    </tr>\n",
       "    <tr>\n",
       "      <td>9</td>\n",
       "      <td>JerroLi (銀色小刀)</td>\n",
       "      <td>NBA</td>\n",
       "      <td>[情報] SEASON Schedule 賽程 December 19–20</td>\n",
       "      <td>Fri Nov 29 00:46:01 2019</td>\n",
       "    </tr>\n",
       "  </tbody>\n",
       "</table>\n",
       "</div>"
      ],
      "text/plain": [
       "                           作者    看板                                      標題  \\\n",
       "0           fukawa947 (交大薛之謙)   NBA                [新聞] 曾被土耳其發出死亡威脅　肯特可在海外出   \n",
       "1                  Vedan (味丹)   NBA                          [公告] 請勿發業配、廣告文   \n",
       "2               volume7101 ()   NBA                      [討論] 打nba是不是天生註定的？   \n",
       "3       jingthreept (大哥哥 大姐姐)   NBA         [討論] 請問Blake Griffin什麼時候會離開NBA?   \n",
       "4           fukawa947 (交大薛之謙)   NBA                    [情報] Jokic 大三元次數史上第十   \n",
       "5           thnlkj0665 (灰色地帶)   NBA            [花邊] 勇士賞灰狼11連敗 格林:沒想過會為2連勝興奮   \n",
       "6                        None  None                                    None   \n",
       "7                  Vedan (味丹)   NBA                      [公告] 樂透取消及未來不再開啟樂透   \n",
       "8  qazwsx879345 (Rajon Rondo)   NBA                           [公告] 版主上任相關事項   \n",
       "9              JerroLi (銀色小刀)   NBA  [情報] SEASON Schedule 賽程 December 19–20   \n",
       "\n",
       "                         時間  \n",
       "0  Tue Dec 24 15:01:44 2019  \n",
       "1  Tue Dec 24 15:03:49 2019  \n",
       "2  Tue Dec 24 15:13:54 2019  \n",
       "3  Tue Dec 24 15:55:07 2019  \n",
       "4  Tue Dec 24 16:04:00 2019  \n",
       "5  Tue Dec 24 16:22:22 2019  \n",
       "6                      None  \n",
       "7  Mon Jun 24 15:08:02 2019  \n",
       "8  Fri Oct 25 10:44:03 2019  \n",
       "9  Fri Nov 29 00:46:01 2019  "
      ]
     },
     "execution_count": 17,
     "metadata": {},
     "output_type": "execute_result"
    }
   ],
   "source": [
    "GetFirstPageInfo(url_new)"
   ]
  },
  {
   "cell_type": "markdown",
   "metadata": {},
   "source": [
    "### ③ 試著爬爬看其他版的文章"
   ]
  },
  {
   "cell_type": "code",
   "execution_count": 15,
   "metadata": {},
   "outputs": [
    {
     "ename": "NameError",
     "evalue": "name 'GetFirstPageInfo' is not defined",
     "output_type": "error",
     "traceback": [
      "\u001b[1;31m---------------------------------------------------------------------------\u001b[0m",
      "\u001b[1;31mNameError\u001b[0m                                 Traceback (most recent call last)",
      "\u001b[1;32m<ipython-input-15-feae7441a13c>\u001b[0m in \u001b[0;36m<module>\u001b[1;34m\u001b[0m\n\u001b[0;32m      1\u001b[0m \u001b[0murl_c\u001b[0m \u001b[1;33m=\u001b[0m \u001b[1;34m'https://www.ptt.cc/bbs/creditcard/index.html'\u001b[0m\u001b[1;33m\u001b[0m\u001b[1;33m\u001b[0m\u001b[0m\n\u001b[1;32m----> 2\u001b[1;33m \u001b[0mGetFirstPageInfo\u001b[0m\u001b[1;33m(\u001b[0m\u001b[0murl_c\u001b[0m\u001b[1;33m)\u001b[0m\u001b[1;33m\u001b[0m\u001b[1;33m\u001b[0m\u001b[0m\n\u001b[0m",
      "\u001b[1;31mNameError\u001b[0m: name 'GetFirstPageInfo' is not defined"
     ]
    }
   ],
   "source": [
    "url_c = 'https://www.ptt.cc/bbs/creditcard/index1.html'\n",
    "GetFirstPageInfo(url_c)"
   ]
  },
  {
   "cell_type": "code",
   "execution_count": null,
   "metadata": {},
   "outputs": [],
   "source": []
  }
 ],
 "metadata": {
  "kernelspec": {
   "display_name": "Python 3",
   "language": "python",
   "name": "python3"
  },
  "language_info": {
   "codemirror_mode": {
    "name": "ipython",
    "version": 3
   },
   "file_extension": ".py",
   "mimetype": "text/x-python",
   "name": "python",
   "nbconvert_exporter": "python",
   "pygments_lexer": "ipython3",
   "version": "3.7.4"
  }
 },
 "nbformat": 4,
 "nbformat_minor": 2
}
